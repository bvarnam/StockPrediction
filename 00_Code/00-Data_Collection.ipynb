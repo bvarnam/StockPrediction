{
 "cells": [
  {
   "cell_type": "markdown",
   "id": "7f8fb0d1",
   "metadata": {},
   "source": [
    "# Intraday Trading via Day Trading Techniques & Indicators\n",
    "---\n",
    "\n",
    "### Data collected via AlphaVantage free API using extended intraday data. \n",
    "> https://www.alphavantage.co/documentation/\n",
    "\n",
    "---"
   ]
  },
  {
   "cell_type": "markdown",
   "id": "d75e84bc",
   "metadata": {},
   "source": [
    "# 00 - Data Collection"
   ]
  },
  {
   "cell_type": "markdown",
   "id": "a8f432c0",
   "metadata": {},
   "source": [
    "### Library Imports"
   ]
  },
  {
   "cell_type": "code",
   "execution_count": 1,
   "id": "98a294ec",
   "metadata": {},
   "outputs": [],
   "source": [
    "import pandas as pd\n",
    "import numpy as np\n",
    "import seaborn as sns\n",
    "import matplotlib.pyplot as plt\n",
    "%matplotlib inline"
   ]
  },
  {
   "cell_type": "markdown",
   "id": "2b7b1157",
   "metadata": {},
   "source": [
    "# Read in sample Data\n",
    "\n",
    "**First, we want to ensure our data is in the proper form and there is no extra cleaning that needs to be done. For this we will look at our most recent dataset.**"
   ]
  },
  {
   "cell_type": "code",
   "execution_count": 2,
   "id": "4aee6a1b",
   "metadata": {
    "scrolled": true
   },
   "outputs": [
    {
     "data": {
      "text/html": [
       "<div>\n",
       "<style scoped>\n",
       "    .dataframe tbody tr th:only-of-type {\n",
       "        vertical-align: middle;\n",
       "    }\n",
       "\n",
       "    .dataframe tbody tr th {\n",
       "        vertical-align: top;\n",
       "    }\n",
       "\n",
       "    .dataframe thead th {\n",
       "        text-align: right;\n",
       "    }\n",
       "</style>\n",
       "<table border=\"1\" class=\"dataframe\">\n",
       "  <thead>\n",
       "    <tr style=\"text-align: right;\">\n",
       "      <th></th>\n",
       "      <th>time</th>\n",
       "      <th>open</th>\n",
       "      <th>high</th>\n",
       "      <th>low</th>\n",
       "      <th>close</th>\n",
       "      <th>volume</th>\n",
       "    </tr>\n",
       "  </thead>\n",
       "  <tbody>\n",
       "    <tr>\n",
       "      <th>0</th>\n",
       "      <td>2021-10-15 20:00:00</td>\n",
       "      <td>445.97</td>\n",
       "      <td>445.97</td>\n",
       "      <td>445.87</td>\n",
       "      <td>445.87</td>\n",
       "      <td>1078</td>\n",
       "    </tr>\n",
       "    <tr>\n",
       "      <th>1</th>\n",
       "      <td>2021-10-15 19:59:00</td>\n",
       "      <td>445.91</td>\n",
       "      <td>445.91</td>\n",
       "      <td>445.88</td>\n",
       "      <td>445.88</td>\n",
       "      <td>641</td>\n",
       "    </tr>\n",
       "    <tr>\n",
       "      <th>2</th>\n",
       "      <td>2021-10-15 19:58:00</td>\n",
       "      <td>445.90</td>\n",
       "      <td>445.90</td>\n",
       "      <td>445.88</td>\n",
       "      <td>445.88</td>\n",
       "      <td>774</td>\n",
       "    </tr>\n",
       "    <tr>\n",
       "      <th>3</th>\n",
       "      <td>2021-10-15 19:56:00</td>\n",
       "      <td>445.88</td>\n",
       "      <td>445.88</td>\n",
       "      <td>445.88</td>\n",
       "      <td>445.88</td>\n",
       "      <td>152</td>\n",
       "    </tr>\n",
       "    <tr>\n",
       "      <th>4</th>\n",
       "      <td>2021-10-15 19:54:00</td>\n",
       "      <td>445.92</td>\n",
       "      <td>445.94</td>\n",
       "      <td>445.92</td>\n",
       "      <td>445.94</td>\n",
       "      <td>1383</td>\n",
       "    </tr>\n",
       "  </tbody>\n",
       "</table>\n",
       "</div>"
      ],
      "text/plain": [
       "                  time    open    high     low   close  volume\n",
       "0  2021-10-15 20:00:00  445.97  445.97  445.87  445.87    1078\n",
       "1  2021-10-15 19:59:00  445.91  445.91  445.88  445.88     641\n",
       "2  2021-10-15 19:58:00  445.90  445.90  445.88  445.88     774\n",
       "3  2021-10-15 19:56:00  445.88  445.88  445.88  445.88     152\n",
       "4  2021-10-15 19:54:00  445.92  445.94  445.92  445.94    1383"
      ]
     },
     "execution_count": 2,
     "metadata": {},
     "output_type": "execute_result"
    }
   ],
   "source": [
    "df = pd.read_csv('../01_Data/extended_intraday_SPY_1min_year1month1_adjusted.csv')\n",
    "df.head()"
   ]
  },
  {
   "cell_type": "markdown",
   "id": "d0830ea6",
   "metadata": {},
   "source": [
    "**We want our index to be the 'time' columns and make sure it is in the form of a DateTime object.**"
   ]
  },
  {
   "cell_type": "code",
   "execution_count": 3,
   "id": "f2966460",
   "metadata": {},
   "outputs": [
    {
     "data": {
      "text/html": [
       "<div>\n",
       "<style scoped>\n",
       "    .dataframe tbody tr th:only-of-type {\n",
       "        vertical-align: middle;\n",
       "    }\n",
       "\n",
       "    .dataframe tbody tr th {\n",
       "        vertical-align: top;\n",
       "    }\n",
       "\n",
       "    .dataframe thead th {\n",
       "        text-align: right;\n",
       "    }\n",
       "</style>\n",
       "<table border=\"1\" class=\"dataframe\">\n",
       "  <thead>\n",
       "    <tr style=\"text-align: right;\">\n",
       "      <th></th>\n",
       "      <th>open</th>\n",
       "      <th>high</th>\n",
       "      <th>low</th>\n",
       "      <th>close</th>\n",
       "      <th>volume</th>\n",
       "    </tr>\n",
       "    <tr>\n",
       "      <th>time</th>\n",
       "      <th></th>\n",
       "      <th></th>\n",
       "      <th></th>\n",
       "      <th></th>\n",
       "      <th></th>\n",
       "    </tr>\n",
       "  </thead>\n",
       "  <tbody>\n",
       "    <tr>\n",
       "      <th>2021-10-15 20:00:00</th>\n",
       "      <td>445.97</td>\n",
       "      <td>445.97</td>\n",
       "      <td>445.87</td>\n",
       "      <td>445.87</td>\n",
       "      <td>1078</td>\n",
       "    </tr>\n",
       "    <tr>\n",
       "      <th>2021-10-15 19:59:00</th>\n",
       "      <td>445.91</td>\n",
       "      <td>445.91</td>\n",
       "      <td>445.88</td>\n",
       "      <td>445.88</td>\n",
       "      <td>641</td>\n",
       "    </tr>\n",
       "    <tr>\n",
       "      <th>2021-10-15 19:58:00</th>\n",
       "      <td>445.90</td>\n",
       "      <td>445.90</td>\n",
       "      <td>445.88</td>\n",
       "      <td>445.88</td>\n",
       "      <td>774</td>\n",
       "    </tr>\n",
       "    <tr>\n",
       "      <th>2021-10-15 19:56:00</th>\n",
       "      <td>445.88</td>\n",
       "      <td>445.88</td>\n",
       "      <td>445.88</td>\n",
       "      <td>445.88</td>\n",
       "      <td>152</td>\n",
       "    </tr>\n",
       "    <tr>\n",
       "      <th>2021-10-15 19:54:00</th>\n",
       "      <td>445.92</td>\n",
       "      <td>445.94</td>\n",
       "      <td>445.92</td>\n",
       "      <td>445.94</td>\n",
       "      <td>1383</td>\n",
       "    </tr>\n",
       "  </tbody>\n",
       "</table>\n",
       "</div>"
      ],
      "text/plain": [
       "                       open    high     low   close  volume\n",
       "time                                                       \n",
       "2021-10-15 20:00:00  445.97  445.97  445.87  445.87    1078\n",
       "2021-10-15 19:59:00  445.91  445.91  445.88  445.88     641\n",
       "2021-10-15 19:58:00  445.90  445.90  445.88  445.88     774\n",
       "2021-10-15 19:56:00  445.88  445.88  445.88  445.88     152\n",
       "2021-10-15 19:54:00  445.92  445.94  445.92  445.94    1383"
      ]
     },
     "execution_count": 3,
     "metadata": {},
     "output_type": "execute_result"
    }
   ],
   "source": [
    "df.set_index(pd.DatetimeIndex(df['time']), inplace=True)\n",
    "df.drop(columns = ['time'], inplace = True)\n",
    "df.head()"
   ]
  },
  {
   "cell_type": "markdown",
   "id": "37840fc2",
   "metadata": {},
   "source": [
    "**We shouldn't have any null values given how the data was acquired, but we should always check.**"
   ]
  },
  {
   "cell_type": "code",
   "execution_count": 4,
   "id": "b65a102a",
   "metadata": {
    "scrolled": true
   },
   "outputs": [
    {
     "name": "stdout",
     "output_type": "stream",
     "text": [
      "<class 'pandas.core.frame.DataFrame'>\n",
      "DatetimeIndex: 18015 entries, 2021-10-15 20:00:00 to 2021-09-17 04:01:00\n",
      "Data columns (total 5 columns):\n",
      " #   Column  Non-Null Count  Dtype  \n",
      "---  ------  --------------  -----  \n",
      " 0   open    18015 non-null  float64\n",
      " 1   high    18015 non-null  float64\n",
      " 2   low     18015 non-null  float64\n",
      " 3   close   18015 non-null  float64\n",
      " 4   volume  18015 non-null  int64  \n",
      "dtypes: float64(4), int64(1)\n",
      "memory usage: 844.5 KB\n"
     ]
    }
   ],
   "source": [
    "df.info()"
   ]
  },
  {
   "cell_type": "code",
   "execution_count": 5,
   "id": "77164832",
   "metadata": {},
   "outputs": [
    {
     "data": {
      "text/html": [
       "<div>\n",
       "<style scoped>\n",
       "    .dataframe tbody tr th:only-of-type {\n",
       "        vertical-align: middle;\n",
       "    }\n",
       "\n",
       "    .dataframe tbody tr th {\n",
       "        vertical-align: top;\n",
       "    }\n",
       "\n",
       "    .dataframe thead th {\n",
       "        text-align: right;\n",
       "    }\n",
       "</style>\n",
       "<table border=\"1\" class=\"dataframe\">\n",
       "  <thead>\n",
       "    <tr style=\"text-align: right;\">\n",
       "      <th></th>\n",
       "      <th>open</th>\n",
       "      <th>high</th>\n",
       "      <th>low</th>\n",
       "      <th>close</th>\n",
       "      <th>volume</th>\n",
       "    </tr>\n",
       "  </thead>\n",
       "  <tbody>\n",
       "    <tr>\n",
       "      <th>count</th>\n",
       "      <td>18015.000000</td>\n",
       "      <td>18015.000000</td>\n",
       "      <td>18015.000000</td>\n",
       "      <td>18015.00000</td>\n",
       "      <td>1.801500e+04</td>\n",
       "    </tr>\n",
       "    <tr>\n",
       "      <th>mean</th>\n",
       "      <td>436.866990</td>\n",
       "      <td>436.944513</td>\n",
       "      <td>436.793063</td>\n",
       "      <td>436.86720</td>\n",
       "      <td>1.081089e+05</td>\n",
       "    </tr>\n",
       "    <tr>\n",
       "      <th>std</th>\n",
       "      <td>4.697034</td>\n",
       "      <td>4.681832</td>\n",
       "      <td>4.711518</td>\n",
       "      <td>4.69626</td>\n",
       "      <td>2.131648e+05</td>\n",
       "    </tr>\n",
       "    <tr>\n",
       "      <th>min</th>\n",
       "      <td>426.160000</td>\n",
       "      <td>426.190000</td>\n",
       "      <td>425.650000</td>\n",
       "      <td>426.15000</td>\n",
       "      <td>1.000000e+02</td>\n",
       "    </tr>\n",
       "    <tr>\n",
       "      <th>25%</th>\n",
       "      <td>433.970000</td>\n",
       "      <td>434.050000</td>\n",
       "      <td>433.850000</td>\n",
       "      <td>433.97000</td>\n",
       "      <td>1.851000e+03</td>\n",
       "    </tr>\n",
       "    <tr>\n",
       "      <th>50%</th>\n",
       "      <td>436.140000</td>\n",
       "      <td>436.210000</td>\n",
       "      <td>436.080000</td>\n",
       "      <td>436.14000</td>\n",
       "      <td>2.784400e+04</td>\n",
       "    </tr>\n",
       "    <tr>\n",
       "      <th>75%</th>\n",
       "      <td>440.659950</td>\n",
       "      <td>440.720000</td>\n",
       "      <td>440.565000</td>\n",
       "      <td>440.65000</td>\n",
       "      <td>1.415125e+05</td>\n",
       "    </tr>\n",
       "    <tr>\n",
       "      <th>max</th>\n",
       "      <td>447.020000</td>\n",
       "      <td>447.020000</td>\n",
       "      <td>446.170000</td>\n",
       "      <td>446.21000</td>\n",
       "      <td>6.217633e+06</td>\n",
       "    </tr>\n",
       "  </tbody>\n",
       "</table>\n",
       "</div>"
      ],
      "text/plain": [
       "               open          high           low        close        volume\n",
       "count  18015.000000  18015.000000  18015.000000  18015.00000  1.801500e+04\n",
       "mean     436.866990    436.944513    436.793063    436.86720  1.081089e+05\n",
       "std        4.697034      4.681832      4.711518      4.69626  2.131648e+05\n",
       "min      426.160000    426.190000    425.650000    426.15000  1.000000e+02\n",
       "25%      433.970000    434.050000    433.850000    433.97000  1.851000e+03\n",
       "50%      436.140000    436.210000    436.080000    436.14000  2.784400e+04\n",
       "75%      440.659950    440.720000    440.565000    440.65000  1.415125e+05\n",
       "max      447.020000    447.020000    446.170000    446.21000  6.217633e+06"
      ]
     },
     "execution_count": 5,
     "metadata": {},
     "output_type": "execute_result"
    }
   ],
   "source": [
    "df.describe()"
   ]
  },
  {
   "cell_type": "markdown",
   "id": "0320f89f",
   "metadata": {},
   "source": [
    "**Finally, our data should be for the most recent month period, from 9/17 to 10/17 as of the date it was acquired. Furthermore it should include off-hours data.**"
   ]
  },
  {
   "cell_type": "code",
   "execution_count": 6,
   "id": "48bfda47",
   "metadata": {},
   "outputs": [
    {
     "data": {
      "image/png": "[encoded data removed]",
      "text/plain": [
       "<Figure size 1296x648 with 1 Axes>"
      ]
     },
     "metadata": {
      "needs_background": "light"
     },
     "output_type": "display_data"
    }
   ],
   "source": [
    "df[['close']].plot(figsize=(18,9));"
   ]
  },
  {
   "cell_type": "markdown",
   "id": "df4dec36",
   "metadata": {},
   "source": [
    "**Everything seems in order. These 'straight lines' extending from untracked overnight and weekends will likely need to be removed in order to preserve the integrity of our derived columns in the future; ex. VWAP and other Moving Averages.**"
   ]
  },
  {
   "cell_type": "markdown",
   "id": "e3d80f9f",
   "metadata": {},
   "source": [
    "# Read in all Datasets\n",
    "\n",
    "**We have 2 years worth of data in the form of year1month1 referring to 1 month prior and year2month12 referring to 2 years prior, with each dataset containing 1 month of prices and volume for SPY.** "
   ]
  },
  {
   "cell_type": "code",
   "execution_count": 7,
   "id": "c387e2a6",
   "metadata": {},
   "outputs": [
    {
     "data": {
      "text/plain": [
       "(411267, 5)"
      ]
     },
     "execution_count": 7,
     "metadata": {},
     "output_type": "execute_result"
    }
   ],
   "source": [
    "# Year we want\n",
    "y = 1\n",
    "# Month we want; we already imported month 1 above\n",
    "m = 2\n",
    "\n",
    "while (y < 3) and (m < 13):\n",
    "    temp = pd.read_csv('../01_Data/extended_intraday_SPY_1min_year' + str(y) + 'month' + str(m) + '_adjusted.csv')\n",
    "    temp.set_index(pd.DatetimeIndex(temp['time']), inplace=True)\n",
    "    temp.drop(columns = ['time'], inplace = True)\n",
    "    \n",
    "    df = pd.concat([df, temp])\n",
    "    \n",
    "    if (y == 1) and (m == 12):\n",
    "        y = 2\n",
    "        m = 0\n",
    "    \n",
    "    m += 1\n",
    "\n",
    "df.shape"
   ]
  },
  {
   "cell_type": "markdown",
   "id": "c657b8f8",
   "metadata": {},
   "source": [
    "**Shape appears to be correct given size of individual datasets.**\n",
    "\n",
    "**To be sure, let's plot the data.**"
   ]
  },
  {
   "cell_type": "code",
   "execution_count": 8,
   "id": "21a1826a",
   "metadata": {
    "scrolled": false
   },
   "outputs": [
    {
     "data": {
      "image/png": "[encoded data removed]",
      "text/plain": [
       "<Figure size 1296x648 with 1 Axes>"
      ]
     },
     "metadata": {
      "needs_background": "light"
     },
     "output_type": "display_data"
    }
   ],
   "source": [
    "df[['close']].plot(figsize=(18,9), title='SPY 1minute on 2 Year Period');"
   ]
  },
  {
   "cell_type": "markdown",
   "id": "62ebce13",
   "metadata": {},
   "source": [
    "**When compared to a graph found on TradingView, or any online resource, we see that this graph does represent the SPDR S&P500 ETF TRUST (SPY)**\n",
    "> Therefore we know our data was imported correctly\n",
    "\n",
    "---"
   ]
  },
  {
   "cell_type": "markdown",
   "id": "398936f8",
   "metadata": {},
   "source": [
    "# Sort Index\n",
    "\n",
    "**Currently our dataframe starts at our most recent date and moves backwards. This will cause issue with moving averages we want to make so we need to sort our index so the earliest dates are first.**"
   ]
  },
  {
   "cell_type": "code",
   "execution_count": 9,
   "id": "b2864ad5",
   "metadata": {
    "scrolled": false
   },
   "outputs": [
    {
     "data": {
      "text/html": [
       "<div>\n",
       "<style scoped>\n",
       "    .dataframe tbody tr th:only-of-type {\n",
       "        vertical-align: middle;\n",
       "    }\n",
       "\n",
       "    .dataframe tbody tr th {\n",
       "        vertical-align: top;\n",
       "    }\n",
       "\n",
       "    .dataframe thead th {\n",
       "        text-align: right;\n",
       "    }\n",
       "</style>\n",
       "<table border=\"1\" class=\"dataframe\">\n",
       "  <thead>\n",
       "    <tr style=\"text-align: right;\">\n",
       "      <th></th>\n",
       "      <th>open</th>\n",
       "      <th>high</th>\n",
       "      <th>low</th>\n",
       "      <th>close</th>\n",
       "      <th>volume</th>\n",
       "    </tr>\n",
       "    <tr>\n",
       "      <th>time</th>\n",
       "      <th></th>\n",
       "      <th></th>\n",
       "      <th></th>\n",
       "      <th></th>\n",
       "      <th></th>\n",
       "    </tr>\n",
       "  </thead>\n",
       "  <tbody>\n",
       "    <tr>\n",
       "      <th>2019-10-28 04:01:00</th>\n",
       "      <td>292.170418</td>\n",
       "      <td>292.170418</td>\n",
       "      <td>292.170418</td>\n",
       "      <td>292.170418</td>\n",
       "      <td>581</td>\n",
       "    </tr>\n",
       "    <tr>\n",
       "      <th>2019-10-28 04:02:00</th>\n",
       "      <td>292.151078</td>\n",
       "      <td>292.151078</td>\n",
       "      <td>292.141408</td>\n",
       "      <td>292.141408</td>\n",
       "      <td>300</td>\n",
       "    </tr>\n",
       "    <tr>\n",
       "      <th>2019-10-28 04:05:00</th>\n",
       "      <td>292.238108</td>\n",
       "      <td>292.238108</td>\n",
       "      <td>292.238108</td>\n",
       "      <td>292.238108</td>\n",
       "      <td>300</td>\n",
       "    </tr>\n",
       "    <tr>\n",
       "      <th>2019-10-28 04:06:00</th>\n",
       "      <td>292.257448</td>\n",
       "      <td>292.257448</td>\n",
       "      <td>292.228438</td>\n",
       "      <td>292.228438</td>\n",
       "      <td>300</td>\n",
       "    </tr>\n",
       "    <tr>\n",
       "      <th>2019-10-28 04:07:00</th>\n",
       "      <td>292.286458</td>\n",
       "      <td>292.286458</td>\n",
       "      <td>292.286458</td>\n",
       "      <td>292.286458</td>\n",
       "      <td>100</td>\n",
       "    </tr>\n",
       "    <tr>\n",
       "      <th>2019-10-28 04:08:00</th>\n",
       "      <td>292.228438</td>\n",
       "      <td>292.228438</td>\n",
       "      <td>292.209098</td>\n",
       "      <td>292.209098</td>\n",
       "      <td>1260</td>\n",
       "    </tr>\n",
       "    <tr>\n",
       "      <th>2019-10-28 04:12:00</th>\n",
       "      <td>292.228438</td>\n",
       "      <td>292.228438</td>\n",
       "      <td>292.209098</td>\n",
       "      <td>292.209098</td>\n",
       "      <td>226</td>\n",
       "    </tr>\n",
       "    <tr>\n",
       "      <th>2019-10-28 04:15:00</th>\n",
       "      <td>292.421839</td>\n",
       "      <td>292.489529</td>\n",
       "      <td>292.421839</td>\n",
       "      <td>292.421839</td>\n",
       "      <td>1703</td>\n",
       "    </tr>\n",
       "    <tr>\n",
       "      <th>2019-10-28 04:16:00</th>\n",
       "      <td>292.354149</td>\n",
       "      <td>292.354149</td>\n",
       "      <td>292.354149</td>\n",
       "      <td>292.354149</td>\n",
       "      <td>412</td>\n",
       "    </tr>\n",
       "    <tr>\n",
       "      <th>2019-10-28 04:17:00</th>\n",
       "      <td>292.276788</td>\n",
       "      <td>292.276788</td>\n",
       "      <td>292.228438</td>\n",
       "      <td>292.228438</td>\n",
       "      <td>648</td>\n",
       "    </tr>\n",
       "    <tr>\n",
       "      <th>2019-10-28 04:18:00</th>\n",
       "      <td>292.160748</td>\n",
       "      <td>292.209098</td>\n",
       "      <td>292.160748</td>\n",
       "      <td>292.209098</td>\n",
       "      <td>900</td>\n",
       "    </tr>\n",
       "    <tr>\n",
       "      <th>2019-10-28 04:19:00</th>\n",
       "      <td>292.238108</td>\n",
       "      <td>292.238108</td>\n",
       "      <td>292.238108</td>\n",
       "      <td>292.238108</td>\n",
       "      <td>100</td>\n",
       "    </tr>\n",
       "    <tr>\n",
       "      <th>2019-10-28 04:21:00</th>\n",
       "      <td>292.286458</td>\n",
       "      <td>292.286458</td>\n",
       "      <td>292.228438</td>\n",
       "      <td>292.228438</td>\n",
       "      <td>600</td>\n",
       "    </tr>\n",
       "    <tr>\n",
       "      <th>2019-10-28 04:23:00</th>\n",
       "      <td>292.228438</td>\n",
       "      <td>292.257448</td>\n",
       "      <td>292.180088</td>\n",
       "      <td>292.180088</td>\n",
       "      <td>1200</td>\n",
       "    </tr>\n",
       "    <tr>\n",
       "      <th>2019-10-28 04:25:00</th>\n",
       "      <td>292.199428</td>\n",
       "      <td>292.199428</td>\n",
       "      <td>292.199428</td>\n",
       "      <td>292.199428</td>\n",
       "      <td>100</td>\n",
       "    </tr>\n",
       "    <tr>\n",
       "      <th>2019-10-28 04:27:00</th>\n",
       "      <td>292.160748</td>\n",
       "      <td>292.160748</td>\n",
       "      <td>292.160748</td>\n",
       "      <td>292.160748</td>\n",
       "      <td>100</td>\n",
       "    </tr>\n",
       "    <tr>\n",
       "      <th>2019-10-28 04:28:00</th>\n",
       "      <td>292.141408</td>\n",
       "      <td>292.141408</td>\n",
       "      <td>292.141408</td>\n",
       "      <td>292.141408</td>\n",
       "      <td>800</td>\n",
       "    </tr>\n",
       "    <tr>\n",
       "      <th>2019-10-28 04:29:00</th>\n",
       "      <td>292.189758</td>\n",
       "      <td>292.189758</td>\n",
       "      <td>292.189758</td>\n",
       "      <td>292.189758</td>\n",
       "      <td>100</td>\n",
       "    </tr>\n",
       "    <tr>\n",
       "      <th>2019-10-28 04:30:00</th>\n",
       "      <td>292.160748</td>\n",
       "      <td>292.160748</td>\n",
       "      <td>292.160748</td>\n",
       "      <td>292.160748</td>\n",
       "      <td>400</td>\n",
       "    </tr>\n",
       "    <tr>\n",
       "      <th>2019-10-28 04:31:00</th>\n",
       "      <td>292.160748</td>\n",
       "      <td>292.160748</td>\n",
       "      <td>292.160748</td>\n",
       "      <td>292.160748</td>\n",
       "      <td>100</td>\n",
       "    </tr>\n",
       "    <tr>\n",
       "      <th>2019-10-28 04:33:00</th>\n",
       "      <td>292.228438</td>\n",
       "      <td>292.228438</td>\n",
       "      <td>292.228438</td>\n",
       "      <td>292.228438</td>\n",
       "      <td>140</td>\n",
       "    </tr>\n",
       "    <tr>\n",
       "      <th>2019-10-28 04:35:00</th>\n",
       "      <td>292.228438</td>\n",
       "      <td>292.228438</td>\n",
       "      <td>292.160748</td>\n",
       "      <td>292.160748</td>\n",
       "      <td>500</td>\n",
       "    </tr>\n",
       "    <tr>\n",
       "      <th>2019-10-28 04:44:00</th>\n",
       "      <td>292.209098</td>\n",
       "      <td>292.209098</td>\n",
       "      <td>292.209098</td>\n",
       "      <td>292.209098</td>\n",
       "      <td>300</td>\n",
       "    </tr>\n",
       "    <tr>\n",
       "      <th>2019-10-28 04:46:00</th>\n",
       "      <td>292.180088</td>\n",
       "      <td>292.180088</td>\n",
       "      <td>292.180088</td>\n",
       "      <td>292.180088</td>\n",
       "      <td>1120</td>\n",
       "    </tr>\n",
       "    <tr>\n",
       "      <th>2019-10-28 04:50:00</th>\n",
       "      <td>292.180088</td>\n",
       "      <td>292.180088</td>\n",
       "      <td>292.180088</td>\n",
       "      <td>292.180088</td>\n",
       "      <td>300</td>\n",
       "    </tr>\n",
       "  </tbody>\n",
       "</table>\n",
       "</div>"
      ],
      "text/plain": [
       "                           open        high         low       close  volume\n",
       "time                                                                       \n",
       "2019-10-28 04:01:00  292.170418  292.170418  292.170418  292.170418     581\n",
       "2019-10-28 04:02:00  292.151078  292.151078  292.141408  292.141408     300\n",
       "2019-10-28 04:05:00  292.238108  292.238108  292.238108  292.238108     300\n",
       "2019-10-28 04:06:00  292.257448  292.257448  292.228438  292.228438     300\n",
       "2019-10-28 04:07:00  292.286458  292.286458  292.286458  292.286458     100\n",
       "2019-10-28 04:08:00  292.228438  292.228438  292.209098  292.209098    1260\n",
       "2019-10-28 04:12:00  292.228438  292.228438  292.209098  292.209098     226\n",
       "2019-10-28 04:15:00  292.421839  292.489529  292.421839  292.421839    1703\n",
       "2019-10-28 04:16:00  292.354149  292.354149  292.354149  292.354149     412\n",
       "2019-10-28 04:17:00  292.276788  292.276788  292.228438  292.228438     648\n",
       "2019-10-28 04:18:00  292.160748  292.209098  292.160748  292.209098     900\n",
       "2019-10-28 04:19:00  292.238108  292.238108  292.238108  292.238108     100\n",
       "2019-10-28 04:21:00  292.286458  292.286458  292.228438  292.228438     600\n",
       "2019-10-28 04:23:00  292.228438  292.257448  292.180088  292.180088    1200\n",
       "2019-10-28 04:25:00  292.199428  292.199428  292.199428  292.199428     100\n",
       "2019-10-28 04:27:00  292.160748  292.160748  292.160748  292.160748     100\n",
       "2019-10-28 04:28:00  292.141408  292.141408  292.141408  292.141408     800\n",
       "2019-10-28 04:29:00  292.189758  292.189758  292.189758  292.189758     100\n",
       "2019-10-28 04:30:00  292.160748  292.160748  292.160748  292.160748     400\n",
       "2019-10-28 04:31:00  292.160748  292.160748  292.160748  292.160748     100\n",
       "2019-10-28 04:33:00  292.228438  292.228438  292.228438  292.228438     140\n",
       "2019-10-28 04:35:00  292.228438  292.228438  292.160748  292.160748     500\n",
       "2019-10-28 04:44:00  292.209098  292.209098  292.209098  292.209098     300\n",
       "2019-10-28 04:46:00  292.180088  292.180088  292.180088  292.180088    1120\n",
       "2019-10-28 04:50:00  292.180088  292.180088  292.180088  292.180088     300"
      ]
     },
     "execution_count": 9,
     "metadata": {},
     "output_type": "execute_result"
    }
   ],
   "source": [
    "df = df.sort_index()\n",
    "df.head(25)"
   ]
  },
  {
   "cell_type": "markdown",
   "id": "d5765e24",
   "metadata": {},
   "source": [
    "**Let's make sure there were no unintended consequences**"
   ]
  },
  {
   "cell_type": "code",
   "execution_count": 10,
   "id": "42a88c24",
   "metadata": {
    "scrolled": false
   },
   "outputs": [
    {
     "data": {
      "image/png": "[encoded data removed]",
      "text/plain": [
       "<Figure size 1296x648 with 1 Axes>"
      ]
     },
     "metadata": {
      "needs_background": "light"
     },
     "output_type": "display_data"
    }
   ],
   "source": [
    "df[['close']].plot(figsize=(18,9), title='SPY 1minute on 2 Year Period');"
   ]
  },
  {
   "cell_type": "markdown",
   "id": "cca8be6b",
   "metadata": {},
   "source": [
    "**Looks good.**"
   ]
  },
  {
   "cell_type": "markdown",
   "id": "bf9311f2",
   "metadata": {},
   "source": [
    "# Save Combined Dataset"
   ]
  },
  {
   "cell_type": "code",
   "execution_count": 11,
   "id": "5c173121",
   "metadata": {},
   "outputs": [],
   "source": [
    "df.to_csv('../01_Data/extended_intraday_SPY_1min_combined.csv')"
   ]
  },
  {
   "cell_type": "code",
   "execution_count": null,
   "id": "0a108078",
   "metadata": {},
   "outputs": [],
   "source": []
  }
 ],
 "metadata": {
  "kernelspec": {
   "display_name": "Python 3",
   "language": "python",
   "name": "python3"
  },
  "language_info": {
   "codemirror_mode": {
    "name": "ipython",
    "version": 3
   },
   "file_extension": ".py",
   "mimetype": "text/x-python",
   "name": "python",
   "nbconvert_exporter": "python",
   "pygments_lexer": "ipython3",
   "version": "3.8.8"
  }
 },
 "nbformat": 4,
 "nbformat_minor": 5
}
